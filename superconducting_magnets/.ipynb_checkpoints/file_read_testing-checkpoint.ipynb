{
 "cells": [
  {
   "cell_type": "code",
   "execution_count": 1,
   "metadata": {},
   "outputs": [],
   "source": [
    "import csv\n",
    "import numpy as np\n",
    "import random\n",
    "import h5py\n",
    "seed = 0\n",
    "random.seed(seed)\n",
    "np.random.seed(seed)"
   ]
  },
  {
   "cell_type": "code",
   "execution_count": 2,
   "metadata": {},
   "outputs": [
    {
     "name": "stdout",
     "output_type": "stream",
     "text": [
      "[[0.02748311 0.02794296 0.02841271 ... 0.02841271 0.02794296 0.02748311]\n",
      " [0.02748303 0.02794288 0.02841262 ... 0.02841262 0.02794288 0.02748303]\n",
      " [0.02748277 0.02794261 0.02841235 ... 0.02841235 0.02794261 0.02748277]\n",
      " ...\n",
      " [0.02668291 0.02712376 0.02757408 ... 0.02757408 0.02712376 0.02668291]\n",
      " [0.02666654 0.027107   0.02755692 ... 0.02755692 0.027107   0.02666654]\n",
      " [0.02665002 0.02709007 0.02753959 ... 0.02753959 0.02709007 0.02665002]]\n"
     ]
    }
   ],
   "source": [
    "gridpoints_x = 100\n",
    "gridpoints_z = 400\n",
    "xz_b_slice = np.zeros((gridpoints_x, gridpoints_z))\n",
    "\n",
    "with open('./B_1incoldbore_2CHUs.txt', 'r') as file:\n",
    "    for i in range(gridpoints_x):\n",
    "        for k in range(gridpoints_z):\n",
    "            b_value = file.readline().split()[-1]\n",
    "            xz_b_slice[i, k] = b_value\n",
    "\n",
    "print(xz_b_slice)"
   ]
  },
  {
   "cell_type": "code",
   "execution_count": 3,
   "metadata": {},
   "outputs": [],
   "source": [
    "x_len = 1.8e-2 #m\n",
    "z_len = 1.5e-1 * 2 #m"
   ]
  },
  {
   "cell_type": "code",
   "execution_count": 4,
   "metadata": {},
   "outputs": [
    {
     "data": {
      "text/plain": [
       "0.0001818182"
      ]
     },
     "execution_count": 4,
     "metadata": {},
     "output_type": "execute_result"
    }
   ],
   "source": [
    "3.636364e-04 - 1.818182e-04"
   ]
  },
  {
   "cell_type": "code",
   "execution_count": 5,
   "metadata": {},
   "outputs": [
    {
     "data": {
      "text/plain": [
       "0.0007518999999999998"
      ]
     },
     "execution_count": 5,
     "metadata": {},
     "output_type": "execute_result"
    }
   ],
   "source": [
    "-1.492481e-01 - -1.500000e-01"
   ]
  },
  {
   "cell_type": "code",
   "execution_count": 6,
   "metadata": {},
   "outputs": [
    {
     "name": "stdout",
     "output_type": "stream",
     "text": [
      "0.0001818182 0.0007518999999999998 -0.15\n"
     ]
    }
   ],
   "source": [
    "# x_spc = x_len / gridpoints_x\n",
    "# z_spc = z_len / gridpoints_z\n",
    "xy_spc = 0.0001818182\n",
    "z_spc = 0.0007518999999999998\n",
    "z_min = -1.5e-1 # since z is centered at 0, but extends both ways, to interpolate move everything to the left\n",
    "print(xy_spc, z_spc, z_min)"
   ]
  },
  {
   "cell_type": "code",
   "execution_count": 7,
   "metadata": {},
   "outputs": [],
   "source": [
    "normBMatrix = np.zeros((gridpoints_x * 2, gridpoints_x * 2, gridpoints_z))\n",
    "\n",
    "for i in range(gridpoints_x * 2):\n",
    "    for j in range(gridpoints_x * 2):\n",
    "        for k in range(gridpoints_z):\n",
    "            x_pos = -x_len + i * xy_spc\n",
    "            y_pos = -x_len + j * xy_spc\n",
    "            z_pos = k * z_spc\n",
    "            r = np.sqrt(x_pos ** 2 + y_pos ** 2)\n",
    "#             print(f'index: {(i, j, k)}')\n",
    "#             print(f'r value: {r}')\n",
    "            interp_x = round(r / xy_spc)\n",
    "            interp_z = round(z_pos / z_spc)\n",
    "#             print(f'interp: {interp_x, interp_z}')\n",
    "#             normBMatrix[i, j, k] = xz_b_slice[interp_x, interp_z]\n",
    "            try:\n",
    "                normBMatrix[i, j, k] = xz_b_slice[interp_x, interp_z]\n",
    "            except:\n",
    "                normBMatrix[i, j, k] = 0\n",
    "\n",
    "# print(normBMatrix)"
   ]
  },
  {
   "cell_type": "code",
   "execution_count": 8,
   "metadata": {},
   "outputs": [],
   "source": [
    "with h5py.File(f'./b_matrix/normbMatrix_{gridpoints_z}.h5', 'w') as hf:\n",
    "    hf.create_dataset('Dataset1', data=normBMatrix)"
   ]
  },
  {
   "cell_type": "code",
   "execution_count": null,
   "metadata": {},
   "outputs": [],
   "source": []
  }
 ],
 "metadata": {
  "kernelspec": {
   "display_name": "Python 3",
   "language": "python",
   "name": "python3"
  },
  "language_info": {
   "codemirror_mode": {
    "name": "ipython",
    "version": 3
   },
   "file_extension": ".py",
   "mimetype": "text/x-python",
   "name": "python",
   "nbconvert_exporter": "python",
   "pygments_lexer": "ipython3",
   "version": "3.8.5"
  }
 },
 "nbformat": 4,
 "nbformat_minor": 4
}
